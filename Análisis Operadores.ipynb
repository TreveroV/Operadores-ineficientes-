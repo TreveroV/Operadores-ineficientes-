{
 "cells": [
  {
   "cell_type": "markdown",
   "id": "a600b507",
   "metadata": {},
   "source": [
    "# PROYECTO FINAL OPERADORES INEFICIENTES"
   ]
  },
  {
   "cell_type": "markdown",
   "id": "1cc4fce7",
   "metadata": {},
   "source": [
    "El servicio de telefonía virtual CallMeMaybe está desarrollando una nueva función que brindará a los supervisores y las supervisores información sobre los operadores menos eficaces. Se considera que un operador es ineficaz si tiene una gran cantidad de llamadas entrantes perdidas (internas y externas) y un tiempo de espera prolongado para las llamadas entrantes.\n",
    "\n",
    "Vamos a utilizar dos data sets donde tenemos información de las llamadas y los usuarios con sus planes tarifarios, exploraremos un poco la calidad de estos datos, haremos un analisis sencillos de estos y desarrollaremos algunas hipotesis."
   ]
  },
  {
   "cell_type": "code",
   "execution_count": 141,
   "id": "a59207f3",
   "metadata": {},
   "outputs": [],
   "source": [
    "import pandas as pd\n",
    "import numpy as np\n",
    "import matplotlib.pyplot as plt\n",
    "import seaborn as sns\n",
    "from scipy import stats\n",
    "import statsmodels.api as sm\n",
    "from statsmodels.stats.proportion import proportions_ztest"
   ]
  },
  {
   "cell_type": "markdown",
   "id": "2f13c5d0",
   "metadata": {},
   "source": [
    "## Preparación de datos"
   ]
  },
  {
   "cell_type": "code",
   "execution_count": 142,
   "id": "523b0419",
   "metadata": {},
   "outputs": [],
   "source": [
    "clients = pd.read_csv('data/telecom_clients_us.csv')\n",
    "calls = pd.read_csv('data/telecom_dataset_us.csv')"
   ]
  },
  {
   "cell_type": "code",
   "execution_count": 143,
   "id": "83b3048d",
   "metadata": {},
   "outputs": [
    {
     "name": "stdout",
     "output_type": "stream",
     "text": [
      "<class 'pandas.core.frame.DataFrame'>\n",
      "RangeIndex: 53902 entries, 0 to 53901\n",
      "Data columns (total 9 columns):\n",
      " #   Column               Non-Null Count  Dtype  \n",
      "---  ------               --------------  -----  \n",
      " 0   user_id              53902 non-null  int64  \n",
      " 1   date                 53902 non-null  object \n",
      " 2   direction            53902 non-null  object \n",
      " 3   internal             53785 non-null  object \n",
      " 4   operator_id          45730 non-null  float64\n",
      " 5   is_missed_call       53902 non-null  bool   \n",
      " 6   calls_count          53902 non-null  int64  \n",
      " 7   call_duration        53902 non-null  int64  \n",
      " 8   total_call_duration  53902 non-null  int64  \n",
      "dtypes: bool(1), float64(1), int64(4), object(3)\n",
      "memory usage: 3.3+ MB\n",
      "\n",
      "<class 'pandas.core.frame.DataFrame'>\n",
      "RangeIndex: 732 entries, 0 to 731\n",
      "Data columns (total 3 columns):\n",
      " #   Column       Non-Null Count  Dtype \n",
      "---  ------       --------------  ----- \n",
      " 0   user_id      732 non-null    int64 \n",
      " 1   tariff_plan  732 non-null    object\n",
      " 2   date_start   732 non-null    object\n",
      "dtypes: int64(1), object(2)\n",
      "memory usage: 17.3+ KB\n"
     ]
    }
   ],
   "source": [
    "calls.info()\n",
    "print()\n",
    "clients.info()"
   ]
  },
  {
   "cell_type": "code",
   "execution_count": 144,
   "id": "895c8d99",
   "metadata": {},
   "outputs": [
    {
     "data": {
      "text/html": [
       "<div>\n",
       "<style scoped>\n",
       "    .dataframe tbody tr th:only-of-type {\n",
       "        vertical-align: middle;\n",
       "    }\n",
       "\n",
       "    .dataframe tbody tr th {\n",
       "        vertical-align: top;\n",
       "    }\n",
       "\n",
       "    .dataframe thead th {\n",
       "        text-align: right;\n",
       "    }\n",
       "</style>\n",
       "<table border=\"1\" class=\"dataframe\">\n",
       "  <thead>\n",
       "    <tr style=\"text-align: right;\">\n",
       "      <th></th>\n",
       "      <th>user_id</th>\n",
       "      <th>date</th>\n",
       "      <th>direction</th>\n",
       "      <th>internal</th>\n",
       "      <th>operator_id</th>\n",
       "      <th>is_missed_call</th>\n",
       "      <th>calls_count</th>\n",
       "      <th>call_duration</th>\n",
       "      <th>total_call_duration</th>\n",
       "    </tr>\n",
       "  </thead>\n",
       "  <tbody>\n",
       "    <tr>\n",
       "      <th>0</th>\n",
       "      <td>166377</td>\n",
       "      <td>2019-08-04 00:00:00+03:00</td>\n",
       "      <td>in</td>\n",
       "      <td>False</td>\n",
       "      <td>NaN</td>\n",
       "      <td>True</td>\n",
       "      <td>2</td>\n",
       "      <td>0</td>\n",
       "      <td>4</td>\n",
       "    </tr>\n",
       "    <tr>\n",
       "      <th>1</th>\n",
       "      <td>166377</td>\n",
       "      <td>2019-08-05 00:00:00+03:00</td>\n",
       "      <td>out</td>\n",
       "      <td>True</td>\n",
       "      <td>880022.0</td>\n",
       "      <td>True</td>\n",
       "      <td>3</td>\n",
       "      <td>0</td>\n",
       "      <td>5</td>\n",
       "    </tr>\n",
       "    <tr>\n",
       "      <th>2</th>\n",
       "      <td>166377</td>\n",
       "      <td>2019-08-05 00:00:00+03:00</td>\n",
       "      <td>out</td>\n",
       "      <td>True</td>\n",
       "      <td>880020.0</td>\n",
       "      <td>True</td>\n",
       "      <td>1</td>\n",
       "      <td>0</td>\n",
       "      <td>1</td>\n",
       "    </tr>\n",
       "    <tr>\n",
       "      <th>3</th>\n",
       "      <td>166377</td>\n",
       "      <td>2019-08-05 00:00:00+03:00</td>\n",
       "      <td>out</td>\n",
       "      <td>True</td>\n",
       "      <td>880020.0</td>\n",
       "      <td>False</td>\n",
       "      <td>1</td>\n",
       "      <td>10</td>\n",
       "      <td>18</td>\n",
       "    </tr>\n",
       "    <tr>\n",
       "      <th>4</th>\n",
       "      <td>166377</td>\n",
       "      <td>2019-08-05 00:00:00+03:00</td>\n",
       "      <td>out</td>\n",
       "      <td>False</td>\n",
       "      <td>880022.0</td>\n",
       "      <td>True</td>\n",
       "      <td>3</td>\n",
       "      <td>0</td>\n",
       "      <td>25</td>\n",
       "    </tr>\n",
       "  </tbody>\n",
       "</table>\n",
       "</div>"
      ],
      "text/plain": [
       "   user_id                       date direction internal  operator_id  \\\n",
       "0   166377  2019-08-04 00:00:00+03:00        in    False          NaN   \n",
       "1   166377  2019-08-05 00:00:00+03:00       out     True     880022.0   \n",
       "2   166377  2019-08-05 00:00:00+03:00       out     True     880020.0   \n",
       "3   166377  2019-08-05 00:00:00+03:00       out     True     880020.0   \n",
       "4   166377  2019-08-05 00:00:00+03:00       out    False     880022.0   \n",
       "\n",
       "   is_missed_call  calls_count  call_duration  total_call_duration  \n",
       "0            True            2              0                    4  \n",
       "1            True            3              0                    5  \n",
       "2            True            1              0                    1  \n",
       "3           False            1             10                   18  \n",
       "4            True            3              0                   25  "
      ]
     },
     "execution_count": 144,
     "metadata": {},
     "output_type": "execute_result"
    }
   ],
   "source": [
    "calls.head()"
   ]
  },
  {
   "cell_type": "code",
   "execution_count": 145,
   "id": "0f92525c",
   "metadata": {},
   "outputs": [
    {
     "data": {
      "text/html": [
       "<div>\n",
       "<style scoped>\n",
       "    .dataframe tbody tr th:only-of-type {\n",
       "        vertical-align: middle;\n",
       "    }\n",
       "\n",
       "    .dataframe tbody tr th {\n",
       "        vertical-align: top;\n",
       "    }\n",
       "\n",
       "    .dataframe thead th {\n",
       "        text-align: right;\n",
       "    }\n",
       "</style>\n",
       "<table border=\"1\" class=\"dataframe\">\n",
       "  <thead>\n",
       "    <tr style=\"text-align: right;\">\n",
       "      <th></th>\n",
       "      <th>user_id</th>\n",
       "      <th>tariff_plan</th>\n",
       "      <th>date_start</th>\n",
       "    </tr>\n",
       "  </thead>\n",
       "  <tbody>\n",
       "    <tr>\n",
       "      <th>0</th>\n",
       "      <td>166713</td>\n",
       "      <td>A</td>\n",
       "      <td>2019-08-15</td>\n",
       "    </tr>\n",
       "    <tr>\n",
       "      <th>1</th>\n",
       "      <td>166901</td>\n",
       "      <td>A</td>\n",
       "      <td>2019-08-23</td>\n",
       "    </tr>\n",
       "    <tr>\n",
       "      <th>2</th>\n",
       "      <td>168527</td>\n",
       "      <td>A</td>\n",
       "      <td>2019-10-29</td>\n",
       "    </tr>\n",
       "    <tr>\n",
       "      <th>3</th>\n",
       "      <td>167097</td>\n",
       "      <td>A</td>\n",
       "      <td>2019-09-01</td>\n",
       "    </tr>\n",
       "    <tr>\n",
       "      <th>4</th>\n",
       "      <td>168193</td>\n",
       "      <td>A</td>\n",
       "      <td>2019-10-16</td>\n",
       "    </tr>\n",
       "  </tbody>\n",
       "</table>\n",
       "</div>"
      ],
      "text/plain": [
       "   user_id tariff_plan  date_start\n",
       "0   166713           A  2019-08-15\n",
       "1   166901           A  2019-08-23\n",
       "2   168527           A  2019-10-29\n",
       "3   167097           A  2019-09-01\n",
       "4   168193           A  2019-10-16"
      ]
     },
     "execution_count": 145,
     "metadata": {},
     "output_type": "execute_result"
    }
   ],
   "source": [
    "clients.head()"
   ]
  },
  {
   "cell_type": "code",
   "execution_count": 146,
   "id": "93e50fbd",
   "metadata": {},
   "outputs": [],
   "source": [
    "calls['date'] = pd.to_datetime(calls['date'])\n",
    "clients['date_start'] = pd.to_datetime(clients['date_start'])\n"
   ]
  },
  {
   "cell_type": "code",
   "execution_count": 147,
   "id": "e5139b08",
   "metadata": {},
   "outputs": [
    {
     "data": {
      "text/plain": [
       "internal\n",
       "False    47621\n",
       "True      6164\n",
       "NaN        117\n",
       "Name: count, dtype: int64"
      ]
     },
     "execution_count": 147,
     "metadata": {},
     "output_type": "execute_result"
    }
   ],
   "source": [
    "calls['internal'].value_counts(dropna=False)"
   ]
  },
  {
   "cell_type": "code",
   "execution_count": 148,
   "id": "b887f7be",
   "metadata": {},
   "outputs": [
    {
     "name": "stderr",
     "output_type": "stream",
     "text": [
      "/tmp/ipykernel_1977/3259521089.py:1: FutureWarning: Downcasting object dtype arrays on .fillna, .ffill, .bfill is deprecated and will change in a future version. Call result.infer_objects(copy=False) instead. To opt-in to the future behavior, set `pd.set_option('future.no_silent_downcasting', True)`\n",
      "  calls['internal'] = calls['internal'].fillna(False).astype(bool)\n"
     ]
    }
   ],
   "source": [
    "calls['internal'] = calls['internal'].fillna(False).astype(bool)\n",
    "\n",
    "\n",
    "calls['operator_id'] = calls['operator_id'].astype('Int64')\n"
   ]
  },
  {
   "cell_type": "code",
   "execution_count": 149,
   "id": "635784e8",
   "metadata": {},
   "outputs": [
    {
     "name": "stdout",
     "output_type": "stream",
     "text": [
      "<class 'pandas.core.frame.DataFrame'>\n",
      "RangeIndex: 53902 entries, 0 to 53901\n",
      "Data columns (total 9 columns):\n",
      " #   Column               Non-Null Count  Dtype                    \n",
      "---  ------               --------------  -----                    \n",
      " 0   user_id              53902 non-null  int64                    \n",
      " 1   date                 53902 non-null  datetime64[ns, UTC+03:00]\n",
      " 2   direction            53902 non-null  object                   \n",
      " 3   internal             53902 non-null  bool                     \n",
      " 4   operator_id          45730 non-null  Int64                    \n",
      " 5   is_missed_call       53902 non-null  bool                     \n",
      " 6   calls_count          53902 non-null  int64                    \n",
      " 7   call_duration        53902 non-null  int64                    \n",
      " 8   total_call_duration  53902 non-null  int64                    \n",
      "dtypes: Int64(1), bool(2), datetime64[ns, UTC+03:00](1), int64(4), object(1)\n",
      "memory usage: 3.0+ MB\n",
      "\n",
      "<class 'pandas.core.frame.DataFrame'>\n",
      "RangeIndex: 732 entries, 0 to 731\n",
      "Data columns (total 3 columns):\n",
      " #   Column       Non-Null Count  Dtype         \n",
      "---  ------       --------------  -----         \n",
      " 0   user_id      732 non-null    int64         \n",
      " 1   tariff_plan  732 non-null    object        \n",
      " 2   date_start   732 non-null    datetime64[ns]\n",
      "dtypes: datetime64[ns](1), int64(1), object(1)\n",
      "memory usage: 17.3+ KB\n"
     ]
    }
   ],
   "source": [
    "calls.info()\n",
    "print()\n",
    "clients.info()"
   ]
  },
  {
   "cell_type": "markdown",
   "id": "dbc68847",
   "metadata": {},
   "source": [
    "Revisando los datos descubrimos lo siguiente: \n",
    "1.-Los datos que deberian de ser fechas tenian un tipo de dato que no correspondía.\n",
    "2.-El campo internal tenia valores nulos, pero al ser un numero muy pequeño no consideramos problematico remplazar los valores por False.\n",
    "3.-El campo operator_id tambien contiene valores nulos y ademas estaba asignado como valor Float, cambiamos el campo a Int que parece lo adecuado por el tipo de dato, con respecto a los valores nulos los mantuvimos por que probablemente se pieden con las agrupaciones futuras.\n"
   ]
  },
  {
   "cell_type": "markdown",
   "id": "9037cad4",
   "metadata": {},
   "source": [
    "## EDA"
   ]
  },
  {
   "cell_type": "markdown",
   "id": "d82d68b8",
   "metadata": {},
   "source": [
    "1. Estadísticas descriptivas\n",
    "\n",
    "Hacemos un sencillo describe para los numeros generales\n",
    "\n"
   ]
  },
  {
   "cell_type": "code",
   "execution_count": 150,
   "id": "11c59745",
   "metadata": {},
   "outputs": [
    {
     "data": {
      "text/html": [
       "<div>\n",
       "<style scoped>\n",
       "    .dataframe tbody tr th:only-of-type {\n",
       "        vertical-align: middle;\n",
       "    }\n",
       "\n",
       "    .dataframe tbody tr th {\n",
       "        vertical-align: top;\n",
       "    }\n",
       "\n",
       "    .dataframe thead th {\n",
       "        text-align: right;\n",
       "    }\n",
       "</style>\n",
       "<table border=\"1\" class=\"dataframe\">\n",
       "  <thead>\n",
       "    <tr style=\"text-align: right;\">\n",
       "      <th></th>\n",
       "      <th>user_id</th>\n",
       "      <th>operator_id</th>\n",
       "      <th>calls_count</th>\n",
       "      <th>call_duration</th>\n",
       "      <th>total_call_duration</th>\n",
       "    </tr>\n",
       "  </thead>\n",
       "  <tbody>\n",
       "    <tr>\n",
       "      <th>count</th>\n",
       "      <td>53902.000000</td>\n",
       "      <td>45730.0</td>\n",
       "      <td>53902.000000</td>\n",
       "      <td>53902.000000</td>\n",
       "      <td>53902.000000</td>\n",
       "    </tr>\n",
       "    <tr>\n",
       "      <th>mean</th>\n",
       "      <td>167295.344477</td>\n",
       "      <td>916535.993002</td>\n",
       "      <td>16.451245</td>\n",
       "      <td>866.684427</td>\n",
       "      <td>1157.133297</td>\n",
       "    </tr>\n",
       "    <tr>\n",
       "      <th>std</th>\n",
       "      <td>598.883775</td>\n",
       "      <td>21254.123136</td>\n",
       "      <td>62.917170</td>\n",
       "      <td>3731.791202</td>\n",
       "      <td>4403.468763</td>\n",
       "    </tr>\n",
       "    <tr>\n",
       "      <th>min</th>\n",
       "      <td>166377.000000</td>\n",
       "      <td>879896.0</td>\n",
       "      <td>1.000000</td>\n",
       "      <td>0.000000</td>\n",
       "      <td>0.000000</td>\n",
       "    </tr>\n",
       "    <tr>\n",
       "      <th>25%</th>\n",
       "      <td>166782.000000</td>\n",
       "      <td>900788.0</td>\n",
       "      <td>1.000000</td>\n",
       "      <td>0.000000</td>\n",
       "      <td>47.000000</td>\n",
       "    </tr>\n",
       "    <tr>\n",
       "      <th>50%</th>\n",
       "      <td>167162.000000</td>\n",
       "      <td>913938.0</td>\n",
       "      <td>4.000000</td>\n",
       "      <td>38.000000</td>\n",
       "      <td>210.000000</td>\n",
       "    </tr>\n",
       "    <tr>\n",
       "      <th>75%</th>\n",
       "      <td>167819.000000</td>\n",
       "      <td>937708.0</td>\n",
       "      <td>12.000000</td>\n",
       "      <td>572.000000</td>\n",
       "      <td>902.000000</td>\n",
       "    </tr>\n",
       "    <tr>\n",
       "      <th>max</th>\n",
       "      <td>168606.000000</td>\n",
       "      <td>973286.0</td>\n",
       "      <td>4817.000000</td>\n",
       "      <td>144395.000000</td>\n",
       "      <td>166155.000000</td>\n",
       "    </tr>\n",
       "  </tbody>\n",
       "</table>\n",
       "</div>"
      ],
      "text/plain": [
       "             user_id    operator_id   calls_count  call_duration  \\\n",
       "count   53902.000000        45730.0  53902.000000   53902.000000   \n",
       "mean   167295.344477  916535.993002     16.451245     866.684427   \n",
       "std       598.883775   21254.123136     62.917170    3731.791202   \n",
       "min    166377.000000       879896.0      1.000000       0.000000   \n",
       "25%    166782.000000       900788.0      1.000000       0.000000   \n",
       "50%    167162.000000       913938.0      4.000000      38.000000   \n",
       "75%    167819.000000       937708.0     12.000000     572.000000   \n",
       "max    168606.000000       973286.0   4817.000000  144395.000000   \n",
       "\n",
       "       total_call_duration  \n",
       "count         53902.000000  \n",
       "mean           1157.133297  \n",
       "std            4403.468763  \n",
       "min               0.000000  \n",
       "25%              47.000000  \n",
       "50%             210.000000  \n",
       "75%             902.000000  \n",
       "max          166155.000000  "
      ]
     },
     "execution_count": 150,
     "metadata": {},
     "output_type": "execute_result"
    }
   ],
   "source": [
    "calls.describe()\n"
   ]
  },
  {
   "cell_type": "markdown",
   "id": "a3603cde",
   "metadata": {},
   "source": [
    "Revisamos la proporción de llamadas perdidas"
   ]
  },
  {
   "cell_type": "code",
   "execution_count": 151,
   "id": "41a840f4",
   "metadata": {},
   "outputs": [
    {
     "data": {
      "text/plain": [
       "is_missed_call\n",
       "False    0.562762\n",
       "True     0.437238\n",
       "Name: proportion, dtype: float64"
      ]
     },
     "execution_count": 151,
     "metadata": {},
     "output_type": "execute_result"
    }
   ],
   "source": [
    "calls['is_missed_call'].value_counts(normalize=True)"
   ]
  },
  {
   "cell_type": "markdown",
   "id": "32e649de",
   "metadata": {},
   "source": [
    "2. Tendencias temporales\n",
    "\n",
    "Evolución de llamadas en el tiempo.\n",
    "\n",
    "Diferenciar entrantes (in) y salientes (out)."
   ]
  },
  {
   "cell_type": "code",
   "execution_count": 152,
   "id": "63fb04b8",
   "metadata": {},
   "outputs": [
    {
     "data": {
      "text/plain": [
       "<Axes: xlabel='date'>"
      ]
     },
     "execution_count": 152,
     "metadata": {},
     "output_type": "execute_result"
    },
    {
     "data": {
      "image/png": "[encoded data removed]",
      "text/plain": [
       "<Figure size 640x480 with 1 Axes>"
      ]
     },
     "metadata": {},
     "output_type": "display_data"
    }
   ],
   "source": [
    "calls.groupby(['date','direction'])['calls_count'].sum().unstack().plot()\n",
    "\n"
   ]
  },
  {
   "cell_type": "markdown",
   "id": "c3ef2b99",
   "metadata": {},
   "source": [
    "3. Operadores\n",
    "\n",
    "\n",
    "Ranking de operadores con más llamadas"
   ]
  },
  {
   "cell_type": "code",
   "execution_count": 153,
   "id": "d63a44d6",
   "metadata": {},
   "outputs": [
    {
     "data": {
      "text/html": [
       "<div>\n",
       "<style scoped>\n",
       "    .dataframe tbody tr th:only-of-type {\n",
       "        vertical-align: middle;\n",
       "    }\n",
       "\n",
       "    .dataframe tbody tr th {\n",
       "        vertical-align: top;\n",
       "    }\n",
       "\n",
       "    .dataframe thead th {\n",
       "        text-align: right;\n",
       "    }\n",
       "</style>\n",
       "<table border=\"1\" class=\"dataframe\">\n",
       "  <thead>\n",
       "    <tr style=\"text-align: right;\">\n",
       "      <th></th>\n",
       "      <th>operator_id</th>\n",
       "      <th>calls_count</th>\n",
       "    </tr>\n",
       "  </thead>\n",
       "  <tbody>\n",
       "    <tr>\n",
       "      <th>0</th>\n",
       "      <td>885876</td>\n",
       "      <td>66049</td>\n",
       "    </tr>\n",
       "    <tr>\n",
       "      <th>1</th>\n",
       "      <td>885890</td>\n",
       "      <td>66016</td>\n",
       "    </tr>\n",
       "    <tr>\n",
       "      <th>2</th>\n",
       "      <td>929428</td>\n",
       "      <td>24572</td>\n",
       "    </tr>\n",
       "    <tr>\n",
       "      <th>3</th>\n",
       "      <td>925922</td>\n",
       "      <td>22210</td>\n",
       "    </tr>\n",
       "    <tr>\n",
       "      <th>4</th>\n",
       "      <td>908640</td>\n",
       "      <td>16699</td>\n",
       "    </tr>\n",
       "    <tr>\n",
       "      <th>5</th>\n",
       "      <td>929426</td>\n",
       "      <td>12041</td>\n",
       "    </tr>\n",
       "    <tr>\n",
       "      <th>6</th>\n",
       "      <td>879898</td>\n",
       "      <td>7974</td>\n",
       "    </tr>\n",
       "    <tr>\n",
       "      <th>7</th>\n",
       "      <td>945286</td>\n",
       "      <td>7919</td>\n",
       "    </tr>\n",
       "    <tr>\n",
       "      <th>8</th>\n",
       "      <td>945302</td>\n",
       "      <td>7059</td>\n",
       "    </tr>\n",
       "    <tr>\n",
       "      <th>9</th>\n",
       "      <td>893804</td>\n",
       "      <td>6570</td>\n",
       "    </tr>\n",
       "  </tbody>\n",
       "</table>\n",
       "</div>"
      ],
      "text/plain": [
       "   operator_id  calls_count\n",
       "0       885876        66049\n",
       "1       885890        66016\n",
       "2       929428        24572\n",
       "3       925922        22210\n",
       "4       908640        16699\n",
       "5       929426        12041\n",
       "6       879898         7974\n",
       "7       945286         7919\n",
       "8       945302         7059\n",
       "9       893804         6570"
      ]
     },
     "execution_count": 153,
     "metadata": {},
     "output_type": "execute_result"
    }
   ],
   "source": [
    "calls.groupby('operator_id')['calls_count'].sum().sort_values(ascending=False).head(10).reset_index()"
   ]
  },
  {
   "cell_type": "markdown",
   "id": "975ae537",
   "metadata": {},
   "source": [
    "Métricas nuevas\n"
   ]
  },
  {
   "cell_type": "markdown",
   "id": "2d787c7c",
   "metadata": {},
   "source": [
    "Tiempo promedio de espera (diferencia entre total_call_duration y call_duration)"
   ]
  },
  {
   "cell_type": "code",
   "execution_count": 154,
   "id": "0ca3b2c3",
   "metadata": {},
   "outputs": [],
   "source": [
    "calls['waiting_time'] = calls['total_call_duration'] - calls['call_duration']"
   ]
  },
  {
   "cell_type": "markdown",
   "id": "63129505",
   "metadata": {},
   "source": [
    "Promedio de llamadas salientes por operador"
   ]
  },
  {
   "cell_type": "code",
   "execution_count": 155,
   "id": "fe822155",
   "metadata": {},
   "outputs": [
    {
     "data": {
      "text/html": [
       "<div>\n",
       "<style scoped>\n",
       "    .dataframe tbody tr th:only-of-type {\n",
       "        vertical-align: middle;\n",
       "    }\n",
       "\n",
       "    .dataframe tbody tr th {\n",
       "        vertical-align: top;\n",
       "    }\n",
       "\n",
       "    .dataframe thead th {\n",
       "        text-align: right;\n",
       "    }\n",
       "</style>\n",
       "<table border=\"1\" class=\"dataframe\">\n",
       "  <thead>\n",
       "    <tr style=\"text-align: right;\">\n",
       "      <th></th>\n",
       "      <th>operator_id</th>\n",
       "      <th>calls_count</th>\n",
       "    </tr>\n",
       "  </thead>\n",
       "  <tbody>\n",
       "    <tr>\n",
       "      <th>0</th>\n",
       "      <td>879896</td>\n",
       "      <td>10.200000</td>\n",
       "    </tr>\n",
       "    <tr>\n",
       "      <th>1</th>\n",
       "      <td>879898</td>\n",
       "      <td>42.010695</td>\n",
       "    </tr>\n",
       "    <tr>\n",
       "      <th>2</th>\n",
       "      <td>880020</td>\n",
       "      <td>3.285714</td>\n",
       "    </tr>\n",
       "    <tr>\n",
       "      <th>3</th>\n",
       "      <td>880022</td>\n",
       "      <td>3.102941</td>\n",
       "    </tr>\n",
       "    <tr>\n",
       "      <th>4</th>\n",
       "      <td>880026</td>\n",
       "      <td>13.486034</td>\n",
       "    </tr>\n",
       "  </tbody>\n",
       "</table>\n",
       "</div>"
      ],
      "text/plain": [
       "   operator_id  calls_count\n",
       "0       879896    10.200000\n",
       "1       879898    42.010695\n",
       "2       880020     3.285714\n",
       "3       880022     3.102941\n",
       "4       880026    13.486034"
      ]
     },
     "execution_count": 155,
     "metadata": {},
     "output_type": "execute_result"
    }
   ],
   "source": [
    "outgoing = (\n",
    "    calls[calls['direction']=='out']\n",
    "    .groupby('operator_id')['calls_count']\n",
    "    .mean().reset_index()\n",
    ")\n",
    "\n",
    "outgoing.head()    "
   ]
  },
  {
   "cell_type": "markdown",
   "id": "08cb791a",
   "metadata": {},
   "source": [
    "Hacemos una nueva tabla con valores nuevos y agrupado por el operador"
   ]
  },
  {
   "cell_type": "code",
   "execution_count": 156,
   "id": "b3767375",
   "metadata": {},
   "outputs": [
    {
     "name": "stdout",
     "output_type": "stream",
     "text": [
      "   user_id  operator_id  total_calls  missed_calls  missed_rate  \\\n",
      "0   166377       880020           54             7     0.318182   \n",
      "1   166377       880022          219            33     0.434211   \n",
      "2   166377       880026         2439            94     0.474747   \n",
      "3   166377       880028         2906            91     0.402655   \n",
      "4   166377       881278           20             7     0.875000   \n",
      "\n",
      "   avg_waiting_time  calls_duration  outgoing_calls  outgoing_rate  \n",
      "0         15.181818      104.090909              14       0.259259  \n",
      "1         57.565789      240.842105              68       0.310502  \n",
      "2        121.171717      856.939394             179       0.073391  \n",
      "3        210.592920      746.265487             181       0.062285  \n",
      "4          9.750000       58.125000               8       0.400000  \n"
     ]
    }
   ],
   "source": [
    "\n",
    "\n",
    "# Agrupar por operador\n",
    "operator_stats = (\n",
    "    calls.groupby(['user_id','operator_id'])\n",
    "    .agg(\n",
    "        total_calls = ('calls_count', 'sum'),\n",
    "        missed_calls = ('is_missed_call', 'sum'),\n",
    "        missed_rate = ('is_missed_call', 'mean'),\n",
    "        avg_waiting_time = ('waiting_time', 'mean'),\n",
    "        calls_duration = ('call_duration', 'mean'),\n",
    "        outgoing_calls = ('calls_count', lambda x: calls.loc[x.index, 'direction'].eq('out').sum())\n",
    "    ).reset_index()\n",
    ")\n",
    "\n",
    "# Calcular proporción de llamadas salientes\n",
    "operator_stats['outgoing_rate'] = operator_stats['outgoing_calls'] / operator_stats['total_calls']\n",
    "\n",
    "# Revisar las primeras filas\n",
    "print(operator_stats.head())"
   ]
  },
  {
   "cell_type": "markdown",
   "id": "c612419a",
   "metadata": {},
   "source": [
    "Con este nuevo data set perdemos los operator_id que estaban nulos y nos sirve para poder revisar pruebas de hipotesis, pero primero agreguemos la tabla de los clientes con sus tipos de tarifas."
   ]
  },
  {
   "cell_type": "code",
   "execution_count": 157,
   "id": "8d730d7c",
   "metadata": {},
   "outputs": [
    {
     "data": {
      "text/html": [
       "<div>\n",
       "<style scoped>\n",
       "    .dataframe tbody tr th:only-of-type {\n",
       "        vertical-align: middle;\n",
       "    }\n",
       "\n",
       "    .dataframe tbody tr th {\n",
       "        vertical-align: top;\n",
       "    }\n",
       "\n",
       "    .dataframe thead th {\n",
       "        text-align: right;\n",
       "    }\n",
       "</style>\n",
       "<table border=\"1\" class=\"dataframe\">\n",
       "  <thead>\n",
       "    <tr style=\"text-align: right;\">\n",
       "      <th></th>\n",
       "      <th>user_id</th>\n",
       "      <th>operator_id</th>\n",
       "      <th>total_calls</th>\n",
       "      <th>missed_calls</th>\n",
       "      <th>missed_rate</th>\n",
       "      <th>avg_waiting_time</th>\n",
       "      <th>calls_duration</th>\n",
       "      <th>outgoing_calls</th>\n",
       "      <th>outgoing_rate</th>\n",
       "      <th>tariff_plan</th>\n",
       "    </tr>\n",
       "  </thead>\n",
       "  <tbody>\n",
       "    <tr>\n",
       "      <th>0</th>\n",
       "      <td>166377</td>\n",
       "      <td>880020</td>\n",
       "      <td>54</td>\n",
       "      <td>7</td>\n",
       "      <td>0.318182</td>\n",
       "      <td>15.181818</td>\n",
       "      <td>104.090909</td>\n",
       "      <td>14</td>\n",
       "      <td>0.259259</td>\n",
       "      <td>B</td>\n",
       "    </tr>\n",
       "    <tr>\n",
       "      <th>1</th>\n",
       "      <td>166377</td>\n",
       "      <td>880022</td>\n",
       "      <td>219</td>\n",
       "      <td>33</td>\n",
       "      <td>0.434211</td>\n",
       "      <td>57.565789</td>\n",
       "      <td>240.842105</td>\n",
       "      <td>68</td>\n",
       "      <td>0.310502</td>\n",
       "      <td>B</td>\n",
       "    </tr>\n",
       "    <tr>\n",
       "      <th>2</th>\n",
       "      <td>166377</td>\n",
       "      <td>880026</td>\n",
       "      <td>2439</td>\n",
       "      <td>94</td>\n",
       "      <td>0.474747</td>\n",
       "      <td>121.171717</td>\n",
       "      <td>856.939394</td>\n",
       "      <td>179</td>\n",
       "      <td>0.073391</td>\n",
       "      <td>B</td>\n",
       "    </tr>\n",
       "    <tr>\n",
       "      <th>3</th>\n",
       "      <td>166377</td>\n",
       "      <td>880028</td>\n",
       "      <td>2906</td>\n",
       "      <td>91</td>\n",
       "      <td>0.402655</td>\n",
       "      <td>210.592920</td>\n",
       "      <td>746.265487</td>\n",
       "      <td>181</td>\n",
       "      <td>0.062285</td>\n",
       "      <td>B</td>\n",
       "    </tr>\n",
       "    <tr>\n",
       "      <th>4</th>\n",
       "      <td>166377</td>\n",
       "      <td>881278</td>\n",
       "      <td>20</td>\n",
       "      <td>7</td>\n",
       "      <td>0.875000</td>\n",
       "      <td>9.750000</td>\n",
       "      <td>58.125000</td>\n",
       "      <td>8</td>\n",
       "      <td>0.400000</td>\n",
       "      <td>B</td>\n",
       "    </tr>\n",
       "  </tbody>\n",
       "</table>\n",
       "</div>"
      ],
      "text/plain": [
       "   user_id  operator_id  total_calls  missed_calls  missed_rate  \\\n",
       "0   166377       880020           54             7     0.318182   \n",
       "1   166377       880022          219            33     0.434211   \n",
       "2   166377       880026         2439            94     0.474747   \n",
       "3   166377       880028         2906            91     0.402655   \n",
       "4   166377       881278           20             7     0.875000   \n",
       "\n",
       "   avg_waiting_time  calls_duration  outgoing_calls  outgoing_rate tariff_plan  \n",
       "0         15.181818      104.090909              14       0.259259           B  \n",
       "1         57.565789      240.842105              68       0.310502           B  \n",
       "2        121.171717      856.939394             179       0.073391           B  \n",
       "3        210.592920      746.265487             181       0.062285           B  \n",
       "4          9.750000       58.125000               8       0.400000           B  "
      ]
     },
     "execution_count": 157,
     "metadata": {},
     "output_type": "execute_result"
    }
   ],
   "source": [
    "operator_stats = operator_stats.merge(\n",
    "    clients[['user_id','tariff_plan']],\n",
    "    on='user_id',\n",
    "    how='left'\n",
    ")\n",
    "\n",
    "# Revisar\n",
    "operator_stats.head()"
   ]
  },
  {
   "cell_type": "code",
   "execution_count": 158,
   "id": "c4209c22",
   "metadata": {},
   "outputs": [
    {
     "data": {
      "text/html": [
       "<div>\n",
       "<style scoped>\n",
       "    .dataframe tbody tr th:only-of-type {\n",
       "        vertical-align: middle;\n",
       "    }\n",
       "\n",
       "    .dataframe tbody tr th {\n",
       "        vertical-align: top;\n",
       "    }\n",
       "\n",
       "    .dataframe thead th {\n",
       "        text-align: right;\n",
       "    }\n",
       "</style>\n",
       "<table border=\"1\" class=\"dataframe\">\n",
       "  <thead>\n",
       "    <tr style=\"text-align: right;\">\n",
       "      <th></th>\n",
       "      <th>user_id</th>\n",
       "      <th>operator_id</th>\n",
       "      <th>total_calls</th>\n",
       "      <th>missed_calls</th>\n",
       "      <th>missed_rate</th>\n",
       "      <th>avg_waiting_time</th>\n",
       "      <th>calls_duration</th>\n",
       "      <th>outgoing_calls</th>\n",
       "      <th>outgoing_rate</th>\n",
       "    </tr>\n",
       "  </thead>\n",
       "  <tbody>\n",
       "    <tr>\n",
       "      <th>count</th>\n",
       "      <td>1092.00000</td>\n",
       "      <td>1092.0</td>\n",
       "      <td>1092.000000</td>\n",
       "      <td>1092.000000</td>\n",
       "      <td>1092.000000</td>\n",
       "      <td>1092.000000</td>\n",
       "      <td>1092.000000</td>\n",
       "      <td>1092.000000</td>\n",
       "      <td>1092.000000</td>\n",
       "    </tr>\n",
       "    <tr>\n",
       "      <th>mean</th>\n",
       "      <td>167464.39011</td>\n",
       "      <td>925517.543956</td>\n",
       "      <td>707.911172</td>\n",
       "      <td>14.210623</td>\n",
       "      <td>0.314304</td>\n",
       "      <td>215.446189</td>\n",
       "      <td>648.206312</td>\n",
       "      <td>29.044872</td>\n",
       "      <td>0.194845</td>\n",
       "    </tr>\n",
       "    <tr>\n",
       "      <th>std</th>\n",
       "      <td>608.51867</td>\n",
       "      <td>22854.532209</td>\n",
       "      <td>3181.539177</td>\n",
       "      <td>20.355762</td>\n",
       "      <td>0.231363</td>\n",
       "      <td>504.915578</td>\n",
       "      <td>1195.988200</td>\n",
       "      <td>40.288292</td>\n",
       "      <td>0.242218</td>\n",
       "    </tr>\n",
       "    <tr>\n",
       "      <th>min</th>\n",
       "      <td>166377.00000</td>\n",
       "      <td>879896.0</td>\n",
       "      <td>1.000000</td>\n",
       "      <td>0.000000</td>\n",
       "      <td>0.000000</td>\n",
       "      <td>0.000000</td>\n",
       "      <td>0.000000</td>\n",
       "      <td>0.000000</td>\n",
       "      <td>0.000000</td>\n",
       "    </tr>\n",
       "    <tr>\n",
       "      <th>25%</th>\n",
       "      <td>166952.75000</td>\n",
       "      <td>906393.5</td>\n",
       "      <td>11.000000</td>\n",
       "      <td>1.000000</td>\n",
       "      <td>0.125000</td>\n",
       "      <td>23.058824</td>\n",
       "      <td>76.655556</td>\n",
       "      <td>1.000000</td>\n",
       "      <td>0.016756</td>\n",
       "    </tr>\n",
       "    <tr>\n",
       "      <th>50%</th>\n",
       "      <td>167497.00000</td>\n",
       "      <td>925105.0</td>\n",
       "      <td>78.500000</td>\n",
       "      <td>6.000000</td>\n",
       "      <td>0.333333</td>\n",
       "      <td>46.259878</td>\n",
       "      <td>239.806767</td>\n",
       "      <td>11.000000</td>\n",
       "      <td>0.096523</td>\n",
       "    </tr>\n",
       "    <tr>\n",
       "      <th>75%</th>\n",
       "      <td>168062.00000</td>\n",
       "      <td>944211.5</td>\n",
       "      <td>558.750000</td>\n",
       "      <td>21.000000</td>\n",
       "      <td>0.461538</td>\n",
       "      <td>155.541011</td>\n",
       "      <td>659.824661</td>\n",
       "      <td>44.000000</td>\n",
       "      <td>0.293949</td>\n",
       "    </tr>\n",
       "    <tr>\n",
       "      <th>max</th>\n",
       "      <td>168606.00000</td>\n",
       "      <td>973286.0</td>\n",
       "      <td>66049.000000</td>\n",
       "      <td>135.000000</td>\n",
       "      <td>1.000000</td>\n",
       "      <td>5907.443038</td>\n",
       "      <td>14620.545455</td>\n",
       "      <td>246.000000</td>\n",
       "      <td>1.000000</td>\n",
       "    </tr>\n",
       "  </tbody>\n",
       "</table>\n",
       "</div>"
      ],
      "text/plain": [
       "            user_id    operator_id   total_calls  missed_calls  missed_rate  \\\n",
       "count    1092.00000         1092.0   1092.000000   1092.000000  1092.000000   \n",
       "mean   167464.39011  925517.543956    707.911172     14.210623     0.314304   \n",
       "std       608.51867   22854.532209   3181.539177     20.355762     0.231363   \n",
       "min    166377.00000       879896.0      1.000000      0.000000     0.000000   \n",
       "25%    166952.75000       906393.5     11.000000      1.000000     0.125000   \n",
       "50%    167497.00000       925105.0     78.500000      6.000000     0.333333   \n",
       "75%    168062.00000       944211.5    558.750000     21.000000     0.461538   \n",
       "max    168606.00000       973286.0  66049.000000    135.000000     1.000000   \n",
       "\n",
       "       avg_waiting_time  calls_duration  outgoing_calls  outgoing_rate  \n",
       "count       1092.000000     1092.000000     1092.000000    1092.000000  \n",
       "mean         215.446189      648.206312       29.044872       0.194845  \n",
       "std          504.915578     1195.988200       40.288292       0.242218  \n",
       "min            0.000000        0.000000        0.000000       0.000000  \n",
       "25%           23.058824       76.655556        1.000000       0.016756  \n",
       "50%           46.259878      239.806767       11.000000       0.096523  \n",
       "75%          155.541011      659.824661       44.000000       0.293949  \n",
       "max         5907.443038    14620.545455      246.000000       1.000000  "
      ]
     },
     "execution_count": 158,
     "metadata": {},
     "output_type": "execute_result"
    }
   ],
   "source": [
    "operator_stats.describe()"
   ]
  },
  {
   "cell_type": "markdown",
   "id": "b6bfb565",
   "metadata": {},
   "source": [
    "Ahora estamos listos para unas graficas exploratorias"
   ]
  },
  {
   "cell_type": "code",
   "execution_count": 159,
   "id": "10a67ece",
   "metadata": {},
   "outputs": [
    {
     "data": {
      "image/png": "[encoded data removed]",
      "text/plain": [
       "<Figure size 640x480 with 1 Axes>"
      ]
     },
     "metadata": {},
     "output_type": "display_data"
    }
   ],
   "source": [
    "\n",
    "# Comparar tasas de llamadas perdidas\n",
    "sns.boxplot(x='tariff_plan', y='missed_rate', data=operator_stats)\n",
    "plt.title(\"Distribución de llamadas perdidas por plan tarifario\")\n",
    "plt.show()\n"
   ]
  },
  {
   "cell_type": "markdown",
   "id": "c1baa8e3",
   "metadata": {},
   "source": []
  },
  {
   "cell_type": "markdown",
   "id": "9fc27e66",
   "metadata": {},
   "source": [
    "Segun esto el plan C es el que mayor numero de llamadas perdidas tiene."
   ]
  },
  {
   "cell_type": "code",
   "execution_count": 160,
   "id": "93110e0b",
   "metadata": {},
   "outputs": [
    {
     "data": {
      "image/png": "[encoded data removed]",
      "text/plain": [
       "<Figure size 640x480 with 1 Axes>"
      ]
     },
     "metadata": {},
     "output_type": "display_data"
    }
   ],
   "source": [
    "#Comparar tiempos de espera promedio\n",
    "sns.boxplot(x='tariff_plan', y='avg_waiting_time', data=operator_stats)\n",
    "plt.title(\"Tiempo de espera promedio por plan tarifario\")\n",
    "plt.show()\n"
   ]
  },
  {
   "cell_type": "markdown",
   "id": "e9a75677",
   "metadata": {},
   "source": [
    "Para esta grafica de tiempo de espera pareciera que el A es el que mas tiene pero hay demasiados valores atipicos entonces las graficas estan muy cortas, vamos a limitartlas un poco para que se vean mejor."
   ]
  },
  {
   "cell_type": "code",
   "execution_count": 173,
   "id": "62b1ab16",
   "metadata": {},
   "outputs": [
    {
     "data": {
      "image/png": "[encoded data removed]",
      "text/plain": [
       "<Figure size 640x480 with 1 Axes>"
      ]
     },
     "metadata": {},
     "output_type": "display_data"
    }
   ],
   "source": [
    "sns.boxplot(x='tariff_plan', y='avg_waiting_time', data=operator_stats)\n",
    "plt.title(\"Tiempo de espera promedio por plan tarifario\")\n",
    "plt.ylim(0, 1000)  # ejemplo: enfocar en 0–300 segundos\n",
    "plt.show()\n",
    "\n"
   ]
  },
  {
   "cell_type": "markdown",
   "id": "b1863736",
   "metadata": {},
   "source": [
    "Ya con el limite a 1000 el plan A es por mucho el que tiene mas tiempos de espera."
   ]
  },
  {
   "cell_type": "code",
   "execution_count": 162,
   "id": "1ecd599a",
   "metadata": {},
   "outputs": [
    {
     "data": {
      "image/png": "[encoded data removed]",
      "text/plain": [
       "<Figure size 640x480 with 1 Axes>"
      ]
     },
     "metadata": {},
     "output_type": "display_data"
    }
   ],
   "source": [
    "# Comparar tiempos de espera promedio\n",
    "sns.boxplot(x='tariff_plan', y='outgoing_rate', data=operator_stats)\n",
    "plt.title(\"Proporción de llamadas salientes por plan tarifario\")\n",
    "plt.show()\n"
   ]
  },
  {
   "cell_type": "markdown",
   "id": "12e59351",
   "metadata": {},
   "source": [
    "PArece que los tiempos de espera no son similares en los 3 planes, eso significa que A tiene mas por el numero de llamadas que maneja."
   ]
  },
  {
   "cell_type": "code",
   "execution_count": 163,
   "id": "2c1e3f01",
   "metadata": {},
   "outputs": [
    {
     "data": {
      "image/png": "[encoded data removed]",
      "text/plain": [
       "<Figure size 640x480 with 1 Axes>"
      ]
     },
     "metadata": {},
     "output_type": "display_data"
    }
   ],
   "source": [
    "outgoing_mean = operator_stats.groupby('tariff_plan')['outgoing_rate'].mean()\n",
    "outgoing_mean.plot(kind='bar', color=['#66c2a5','#fc8d62',\"#060608\"])\n",
    "plt.title(\"Promedio de proporción de llamadas salientes por plan\")\n",
    "plt.ylabel(\"Proporción\")\n",
    "plt.show()\n"
   ]
  },
  {
   "cell_type": "markdown",
   "id": "8aefbb72",
   "metadata": {},
   "source": [
    "Para la grafica de llamadas salientes promedio tenemos a B como el superiroo, puede que sea el mas eficiente pero eso no lo estamos midiendo esta vez."
   ]
  },
  {
   "cell_type": "markdown",
   "id": "a4fbf402",
   "metadata": {},
   "source": []
  },
  {
   "cell_type": "markdown",
   "id": "f253abb4",
   "metadata": {},
   "source": [
    "## Que es un operador ineficiente"
   ]
  },
  {
   "cell_type": "markdown",
   "id": "1a3ea2b9",
   "metadata": {},
   "source": [
    "Vamos a hacer una regla, ayudandonos de una función vamos a establecer que factores son los que influyen para identificar a un operador ineficas y con esta función vamos a a poder decir los limites de cada factor, asi podria ser dinamico si el criterio cambai con el paso de tiempo. Podemos dejar unos valores por default pero al llamar a la función vamos a determinar nuevos."
   ]
  },
  {
   "cell_type": "code",
   "execution_count": 164,
   "id": "23bada9e",
   "metadata": {},
   "outputs": [],
   "source": [
    "def flag_inefficient_operators(df, missed_thr=0.6, wait_thr=100, out_thr=0.1, min_flags=2):\n",
    "    \"\"\"\n",
    "    Marca operadores ineficaces según umbrales.\n",
    "    \n",
    "    Parámetros:\n",
    "    -----------\n",
    "    df : DataFrame\n",
    "        Tabla con métricas por operador.\n",
    "    missed_thr : float\n",
    "        Umbral de tasa de llamadas perdidas.\n",
    "    wait_thr : int o float\n",
    "        Umbral de tiempo de espera promedio (segundos).\n",
    "    out_thr : float\n",
    "        Umbral de proporción de llamadas salientes.\n",
    "    min_flags : int\n",
    "        Número mínimo de condiciones problemáticas para marcar como ineficaz.\n",
    "    \n",
    "    Retorna:\n",
    "    --------\n",
    "    DataFrame con columna extra 'inefficient' (True/False).\n",
    "    \"\"\"\n",
    "    df = df.copy()\n",
    "    df['inefficient'] = (\n",
    "        (df['missed_rate'] > missed_thr).astype(int) +\n",
    "        (df['avg_waiting_time'] > wait_thr).astype(int) +\n",
    "        (df['outgoing_rate'] < out_thr).astype(int)\n",
    "    ) >= min_flags\n",
    "    return df"
   ]
  },
  {
   "cell_type": "code",
   "execution_count": 165,
   "id": "c40b12cc",
   "metadata": {},
   "outputs": [
    {
     "name": "stdout",
     "output_type": "stream",
     "text": [
      "Total de operadores: 1092\n",
      "Operadores ineficaces: 291\n",
      "Porcentaje de ineficaces: 26.65%\n"
     ]
    }
   ],
   "source": [
    "# Evaluar con los valores determinados por mi \n",
    "result = flag_inefficient_operators( operator_stats,missed_thr= 0.6, wait_thr=150, out_thr=0.4, min_flags=2)\n",
    "\n",
    "total_ops = len(result)\n",
    "\n",
    "# Ineficaces (True en la columna 'inefficient')\n",
    "ineficaces = result['inefficient'].sum()\n",
    "\n",
    "# Porcentaje\n",
    "porcentaje = (ineficaces / total_ops) * 100\n",
    "\n",
    "# Reporte\n",
    "print(f\"Total de operadores: {total_ops}\")\n",
    "print(f\"Operadores ineficaces: {ineficaces}\")\n",
    "print(f\"Porcentaje de ineficaces: {porcentaje:.2f}%\")\n"
   ]
  },
  {
   "cell_type": "code",
   "execution_count": 166,
   "id": "8b2e217a",
   "metadata": {},
   "outputs": [
    {
     "name": "stdout",
     "output_type": "stream",
     "text": [
      "  tariff_plan  total_ops  ineficaces  porcentaje_ineficaces\n",
      "0           A        310         131              42.258065\n",
      "1           B        395          92              23.291139\n",
      "2           C        387          68              17.571059\n"
     ]
    }
   ],
   "source": [
    "reporte_tarifas = (\n",
    "    result.groupby('tariff_plan')['inefficient']\n",
    "    .agg(\n",
    "        total_ops='count',\n",
    "        ineficaces='sum'\n",
    "    )\n",
    "    .reset_index()\n",
    ")\n",
    "\n",
    "\n",
    "reporte_tarifas['porcentaje_ineficaces'] = (\n",
    "    reporte_tarifas['ineficaces'] / reporte_tarifas['total_ops'] * 100\n",
    ")\n",
    "\n",
    "print(reporte_tarifas)"
   ]
  },
  {
   "cell_type": "code",
   "execution_count": 167,
   "id": "bf1f3bb2",
   "metadata": {},
   "outputs": [
    {
     "name": "stderr",
     "output_type": "stream",
     "text": [
      "/tmp/ipykernel_1977/2293954410.py:1: FutureWarning: \n",
      "\n",
      "Passing `palette` without assigning `hue` is deprecated and will be removed in v0.14.0. Assign the `x` variable to `hue` and set `legend=False` for the same effect.\n",
      "\n",
      "  sns.barplot(\n"
     ]
    },
    {
     "data": {
      "image/png": "[encoded data removed]",
      "text/plain": [
       "<Figure size 640x480 with 1 Axes>"
      ]
     },
     "metadata": {},
     "output_type": "display_data"
    }
   ],
   "source": [
    "sns.barplot(\n",
    "    data=reporte_tarifas,\n",
    "    x='tariff_plan',\n",
    "    y='porcentaje_ineficaces',\n",
    "    palette='Set2'\n",
    ")\n",
    "\n",
    "plt.title(\"Porcentaje de operadores ineficaces por plan tarifario\")\n",
    "plt.xlabel(\"Plan tarifario\")\n",
    "plt.ylabel(\"% de ineficaces\")\n",
    "plt.ylim(0, 50)  # porque es porcentaje\n",
    "plt.show()"
   ]
  },
  {
   "cell_type": "markdown",
   "id": "1b39a3c3",
   "metadata": {},
   "source": [
    "PArece que tenemos un plan tarifario ganadaor en cuenta a operadores ineficases."
   ]
  },
  {
   "cell_type": "markdown",
   "id": "f057ba37",
   "metadata": {},
   "source": [
    "## Pruebas de Hipotesis"
   ]
  },
  {
   "cell_type": "markdown",
   "id": "773b0e8e",
   "metadata": {},
   "source": [
    "Vamos a probar unas hipotesis, primero queremos realmente comprobar que el plan A es el peor contra los otros 2 planes.\n",
    "Despues vamoos a validar algunos de los campos medibles y como ya tenemos una separación de eficientes e ineficientes vamos a validar que si es correcta."
   ]
  },
  {
   "cell_type": "markdown",
   "id": "bf8451b5",
   "metadata": {},
   "source": [
    "### Planes tarifarios e ineficiencia\n",
    "\n",
    "H₀: la proporción de operadores ineficaces es igual en los diferentes tariff_plan.\n",
    "\n",
    "H₁: el plan A tiene una proporción mayor de operadores ineficaces.\n",
    "Aquí aplicamos un z-test para dos proporciones (Plan A vs Plan B, Plan A vs Plan C)."
   ]
  },
  {
   "cell_type": "code",
   "execution_count": 168,
   "id": "087e57e2",
   "metadata": {},
   "outputs": [
    {
     "name": "stdout",
     "output_type": "stream",
     "text": [
      "             sum  count\n",
      "tariff_plan            \n",
      "A            131    310\n",
      "B             92    395\n",
      "C             68    387\n",
      "Z-stat: 5.375203808431894\n",
      "p-valor: 3.824805233115786e-08\n"
     ]
    }
   ],
   "source": [
    "\n",
    "tabla = result.groupby('tariff_plan')['inefficient'].agg(['sum','count'])\n",
    "print(tabla)\n",
    "\n",
    "# Plan A vs Plan B\n",
    "ineficaces = [tabla.loc['A','sum'], tabla.loc['B','sum']]\n",
    "totales = [tabla.loc['A','count'], tabla.loc['B','count']]\n",
    "\n",
    "stat, pval = proportions_ztest(ineficaces, totales, alternative='larger')\n",
    "\n",
    "print(\"Z-stat:\", stat)\n",
    "print(\"p-valor:\", pval)\n"
   ]
  },
  {
   "cell_type": "markdown",
   "id": "4253bdd4",
   "metadata": {},
   "source": [
    "El p valor es sumamente bajo, Rechazamos la hipotesis nula  dodne dice que la proporción en ambas tarifas es igual, en el Plan A es significativamente mayor el numero de operadores ineficases"
   ]
  },
  {
   "cell_type": "code",
   "execution_count": 169,
   "id": "72e6d7c4",
   "metadata": {},
   "outputs": [
    {
     "name": "stdout",
     "output_type": "stream",
     "text": [
      "Z-stat: 7.171003184829296\n",
      "p-valor: 3.7225085996221907e-13\n"
     ]
    }
   ],
   "source": [
    "# Plan A vs Plan C\n",
    "ineficaces_2 = [tabla.loc['A','sum'], tabla.loc['C','sum']]\n",
    "totales_2 = [tabla.loc['A','count'], tabla.loc['C','count']]\n",
    "\n",
    "stat2, pval2 = proportions_ztest(ineficaces_2, totales_2, alternative='larger')\n",
    "\n",
    "print(\"Z-stat:\", stat2)\n",
    "print(\"p-valor:\", pval2)\n"
   ]
  },
  {
   "cell_type": "markdown",
   "id": "4ea9c794",
   "metadata": {},
   "source": [
    "Mismo caso que con A vs B, A vs C tiene un Z valor muy alto que indica mucha diferencia y un p valor muy  muy bajo que nos hace rechazar la hipotesis nula ya que siu hay gran diferencia."
   ]
  },
  {
   "cell_type": "markdown",
   "id": "692db3ef",
   "metadata": {},
   "source": [
    "### Hipótesis 2: ¿Los operadores ineficaces tienen significativamente mayor missed_rate que los eficientes?\n",
    "\n",
    "H₀ (nula): No hay diferencia significativa en la tasa de llamadas perdidas (missed_rate) entre operadores ineficaces y eficientes.\n",
    "H₁ (alternativa): Los operadores ineficaces tienen un missed_rate significativamente mayor."
   ]
  },
  {
   "cell_type": "code",
   "execution_count": 170,
   "id": "1ffd9e20",
   "metadata": {},
   "outputs": [
    {
     "name": "stdout",
     "output_type": "stream",
     "text": [
      "T-stat: 16.35066543663091\n",
      "p-valor: 1.0289653132002176e-52\n"
     ]
    }
   ],
   "source": [
    "missed_ineficientes = result[result['inefficient']]['missed_rate']\n",
    "missed_eficientes   = result[~result['inefficient']]['missed_rate']\n",
    "\n",
    "# Prueba t de Welch (varianzas desiguales)\n",
    "t_stat2, p_val2 = stats.ttest_ind(missed_ineficientes, missed_eficientes, equal_var=False)\n",
    "\n",
    "print(\"T-stat:\", t_stat2)\n",
    "print(\"p-valor:\", p_val2)"
   ]
  },
  {
   "cell_type": "markdown",
   "id": "a8dfeb6e",
   "metadata": {},
   "source": [
    "el T valor es sumamente alto, las medias de missed rate entre ambos grupos es muy diferente, P valor es muy baja, queire decir que si hay una relación un alto numero de missed calls, vamos a rechazar la hipotesis nula "
   ]
  },
  {
   "cell_type": "markdown",
   "id": "17686f03",
   "metadata": {},
   "source": [
    "### Hipótesis 3: ¿Los operadores ineficaces tienen tiempo de espera mayores?\n",
    "\n",
    "H₀: el avg_waiting_time es igual entre operadores ineficaces y eficientes.\n",
    "H₁: los ineficaces tienen mayor avg_waiting_time.\n"
   ]
  },
  {
   "cell_type": "code",
   "execution_count": 171,
   "id": "a91db3bf",
   "metadata": {},
   "outputs": [
    {
     "name": "stdout",
     "output_type": "stream",
     "text": [
      "T-stat: 13.725243198868688\n",
      "p-valor: 2.196185486755059e-33\n"
     ]
    }
   ],
   "source": [
    "wait_ineficientes = result[result['inefficient']]['avg_waiting_time']\n",
    "wait_eficientes   = result[~result['inefficient']]['avg_waiting_time']\n",
    "\n",
    "# Prueba t de Welch (varianzas desiguales)\n",
    "t_stat3, p_val3 = stats.ttest_ind(wait_ineficientes, wait_eficientes, equal_var=False)\n",
    "\n",
    "print(\"T-stat:\", t_stat3)\n",
    "print(\"p-valor:\", p_val3)\n"
   ]
  },
  {
   "cell_type": "markdown",
   "id": "bf841e6f",
   "metadata": {},
   "source": [
    "### Hipótesis 4: ¿Los operadores ineficaces tienen un tiempo de llamada mayor?\n",
    "\n",
    "H₀: el call_duration es igual entre operadores ineficaces y eficientes.\n",
    "H₁: los ineficaces tienen mayor call_duration.\n"
   ]
  },
  {
   "cell_type": "code",
   "execution_count": 172,
   "id": "94a58a10",
   "metadata": {},
   "outputs": [
    {
     "name": "stdout",
     "output_type": "stream",
     "text": [
      "T-stat: 13.622228752031363\n",
      "p-valor: 3.0644474183714564e-33\n"
     ]
    }
   ],
   "source": [
    "duration_ineficientes = result[result['inefficient']]['calls_duration']\n",
    "duration_eficientes   = result[~result['inefficient']]['calls_duration']\n",
    "\n",
    "# Prueba t de Welch (varianzas desiguales)\n",
    "t_stat4, p_val4 = stats.ttest_ind(duration_ineficientes, duration_eficientes, equal_var=False)\n",
    "\n",
    "print(\"T-stat:\", t_stat4)\n",
    "print(\"p-valor:\", p_val4)\n"
   ]
  },
  {
   "cell_type": "markdown",
   "id": "a9805136",
   "metadata": {},
   "source": [
    "## 5 Conclusiones y recomendaciones."
   ]
  },
  {
   "cell_type": "markdown",
   "id": "70f400fe",
   "metadata": {},
   "source": [
    "Hicimos una exploración y encontramos varias cosas, enumeremoslas:\n",
    "\n",
    "1.- El plan A es que contiene mas operadores ineficaces.\n",
    "2.- Hay varios factores que influyen en que definimos como ineficaz pero el que mas afecta al plan A es el tiempo de espera.\n",
    "3.- El plan C es el que mayor llamadas perdidas tiene.\n",
    "4.- El plan A tiene el mayor numero de llamadas totales pero no es el que tiene el mayor numero de llamadas salientes.\n",
    "\n",
    "\n",
    "Con esto podemos hacer algunas recomendaciones (y tal vez unas cuantas hipotesis mas)\n",
    "\n",
    "Parece que lo que más afecta a la empresa son los tiempos de espera, pero también pareciera que con el plan A hay muchos casos de llamadas internas, habrá algún factor que provoque que los operadores de este plan no hagan menos llamadas de salida? y que esto está provocando que generen demasiados tiempo de espera?, como también pudimos observar el plan A tiene mayoy número de llamadas, habra una forma de que podamos equilibrar el número de llamadas entre los 3 planes? porque este puede ser un factor al aumento de tiempos de espera en este plan y por lo tanto saturación de los operadores de este plan.\n"
   ]
  },
  {
   "cell_type": "markdown",
   "id": "6d350ac0",
   "metadata": {},
   "source": [
    "### LINKS\n",
    "Realice una presentaciónd e resumen en google slides, copio el link aqui:\n",
    "\n",
    "https://docs.google.com/presentation/d/11qSnXgP-1ZxqLMeAPCdztEEs8GPppwP0JjFletkqTXY/edit?usp=sharing\n",
    "\n",
    "\n",
    "Tambien hice uan exploiración por Tableau, aqui dejo el link:\n",
    "\n",
    "https://public.tableau.com/views/ProyectoFinal_17590201621790/Dashboard1?:language=en-US&publish=yes&:sid=&:redirect=auth&:display_count=n&:origin=viz_share_link"
   ]
  }
 ],
 "metadata": {
  "kernelspec": {
   "display_name": "proyecto-final-py3.12",
   "language": "python",
   "name": "python3"
  },
  "language_info": {
   "codemirror_mode": {
    "name": "ipython",
    "version": 3
   },
   "file_extension": ".py",
   "mimetype": "text/x-python",
   "name": "python",
   "nbconvert_exporter": "python",
   "pygments_lexer": "ipython3",
   "version": "3.12.11"
  }
 },
 "nbformat": 4,
 "nbformat_minor": 5
}
